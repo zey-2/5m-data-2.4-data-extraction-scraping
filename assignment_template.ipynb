{
 "cells": [
  {
   "cell_type": "markdown",
   "id": "046fce39",
   "metadata": {},
   "source": [
    "# Assignment\n",
    "## Brief\n",
    "Write the Python codes for the following questions.\n",
    "## Instructions\n",
    "Paste the answer as Python in the answer code section below each question."
   ]
  },
  {
   "cell_type": "markdown",
   "id": "4f08272c",
   "metadata": {},
   "source": [
    "### Question 1\n",
    "Question: The scraping of `https://www.scrapethissite.com/pages/forms/` in the last section assumes a hardcoded (fixed) no of pages. Can you improve the code by removing the hardcoded no of pages and instead use the `»` button to determine if there are more pages to scrape? Hint: Use a `while` loop.\n"
   ]
  },
  {
   "cell_type": "code",
   "execution_count": null,
   "id": "c924e267",
   "metadata": {},
   "outputs": [],
   "source": [
    "import requests\n",
    "from bs4 import BeautifulSoup"
   ]
  },
  {
   "cell_type": "code",
   "execution_count": null,
   "id": "fe62f3e5",
   "metadata": {},
   "outputs": [],
   "source": [
    "def parse_and_extract_rows(soup: BeautifulSoup):\n",
    "    \"\"\"\n",
    "    Extract table rows from the parsed HTML.\n",
    "\n",
    "    Args:\n",
    "        soup: The parsed HTML.\n",
    "\n",
    "    Returns:\n",
    "        An iterator of dictionaries with the data from the current page.\n",
    "    \"\"\"\n",
    "    header = soup.find('tr')\n",
    "    headers = [th.text.strip() for th in header.find_all('th')]\n",
    "    teams = soup.find_all('tr', 'team')\n",
    "    for team in teams:\n",
    "        row_dict = {}\n",
    "        for header, col in zip(headers, team.find_all('td')):\n",
    "            row_dict[header] = col.text.strip()\n",
    "        yield row_dict"
   ]
  },
  {
   "cell_type": "code",
   "execution_count": null,
   "id": "2f2a9f3a",
   "metadata": {},
   "outputs": [],
   "source": [
    "# Answer for Question 1"
   ]
  },
  {
   "cell_type": "markdown",
   "id": "2dc9d93e",
   "metadata": {},
   "source": [
    "## Submission\n",
    "- Submit the URL of the GitHub Repository that contains your work to NTU black board.\n",
    "- Should you reference the work of your classmate(s) or online resources, give them credit by adding either the name of your classmate or URL."
   ]
  }
 ],
 "metadata": {
  "kernelspec": {
   "display_name": "bde",
   "language": "python",
   "name": "python3"
  },
  "language_info": {
   "name": "python",
   "version": "3.10.13"
  }
 },
 "nbformat": 4,
 "nbformat_minor": 5
}
